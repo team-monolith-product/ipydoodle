{
 "cells": [
  {
   "cell_type": "code",
   "execution_count": null,
   "id": "2a140804-3c75-44b6-bf54-02b1befdc6ab",
   "metadata": {},
   "outputs": [
    {
     "data": {
      "application/vnd.jupyter.widget-view+json": {
       "model_id": "8f7a963887bf49a4bf48ba30df6a4d6d",
       "version_major": 2,
       "version_minor": 0
      },
      "text/plain": [
       "Canvas()"
      ]
     },
     "metadata": {},
     "output_type": "display_data"
    }
   ],
   "source": [
    "from ipydoodle import *\n",
    "import random\n",
    "\n",
    "world = World(color = 'gray')\n",
    "\n",
    "def on_keyboard_event(key, shift_key, ctrl_key, meta_key):\n",
    "    if key == \"ArrowUp\" and ball.y < 150:\n",
    "        ball.y += 50\n",
    "    elif key == \"ArrowDown\" and ball.y > -150:\n",
    "        ball.y -= 50\n",
    "    elif key == \"ArrowRight\" and ball.x < 150:\n",
    "        ball.x += 50\n",
    "    elif key == \"ArrowLeft\" and ball.x > -150:\n",
    "        ball.x -= 50\n",
    "    \n",
    "    if key == \"ArrowLeft\":\n",
    "        raise TypeError('muyaho')\n",
    "\n",
    "\n",
    "bind('on_key_down',on_keyboard_event)\n",
    "\n",
    "for i in range(7):\n",
    "    for j in range(7):\n",
    "        if j % 2 == 0:\n",
    "            odd_color = 'white'\n",
    "            even_color = 'black'\n",
    "        else:\n",
    "            odd_color = 'black'\n",
    "            even_color = 'white'\n",
    "    \n",
    "        if i%2 == 0:\n",
    "            Box(x = -150+ 50*i, y = -150+ 50*j, width = 50, height = 50, color = even_color)\n",
    "        else:\n",
    "            Box(x = -150+ 50*i, y = -150+ 50*j, width = 50, height = 50, color = odd_color)\n",
    "\n",
    "ball = Circle(radius = 25, color = 'blue')\n",
    "\n",
    "count = 0\n",
    "pos = [-150 + 50*i for i in range(7)]\n",
    "ball_list = []\n",
    "while True:\n",
    "    if count % 100 == 0:\n",
    "        ball_list.append(Circle(x = random.choice(pos), y = random.choice(pos), radius = 25, color = 'yellow'))\n",
    "    \n",
    "    for b in ball_list:\n",
    "        if ball.x == b.x and ball.y == b.y:\n",
    "            b.alpha = 0\n",
    "            \n",
    "    update(0.01)\n",
    "    count += 1"
   ]
  },
  {
   "cell_type": "code",
   "execution_count": 4,
   "id": "62cf09d2-db4c-4da0-b25d-c7526f169119",
   "metadata": {},
   "outputs": [
    {
     "data": {
      "application/vnd.jupyter.widget-view+json": {
       "model_id": "8b41d76f5ada4dd6899f7bc8cb7a65b1",
       "version_major": 2,
       "version_minor": 0
      },
      "text/plain": [
       "Output()"
      ]
     },
     "metadata": {},
     "output_type": "display_data"
    }
   ],
   "source": [
    "import ipywidgets\n",
    "\n",
    "from ipywidgets import Output\n",
    "\n",
    "out = Output()\n",
    "\n",
    "@out.capture()\n",
    "def test_callback():\n",
    "    \n",
    "    def explode(b):\n",
    "        raise ValueError('BOOM')\n",
    "\n",
    "    button = ipywidgets.Button()\n",
    "    button.on_click(explode)\n",
    "    button.click()           # This SHOULD cause a ValueError\n",
    "\n",
    "test_callback()\n",
    "display(out)"
   ]
  }
 ],
 "metadata": {
  "kernelspec": {
   "display_name": "Python 3 (ipykernel)",
   "language": "python",
   "name": "python3"
  },
  "language_info": {
   "codemirror_mode": {
    "name": "ipython",
    "version": 3
   },
   "file_extension": ".py",
   "mimetype": "text/x-python",
   "name": "python",
   "nbconvert_exporter": "python",
   "pygments_lexer": "ipython3",
   "version": "3.10.4"
  }
 },
 "nbformat": 4,
 "nbformat_minor": 5
}
