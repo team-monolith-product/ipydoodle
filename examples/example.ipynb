{
 "cells": [
  {
   "cell_type": "code",
   "execution_count": 1,
   "id": "781f9987-1f65-43a1-90ea-6491362d39e9",
   "metadata": {
    "tags": []
   },
   "outputs": [
    {
     "data": {
      "application/vnd.jupyter.widget-view+json": {
       "model_id": "f073e024d75f4c1d862ab0828d885555",
       "version_major": 2,
       "version_minor": 0
      },
      "text/plain": [
       "Canvas(height=200, width=200)"
      ]
     },
     "metadata": {},
     "output_type": "display_data"
    }
   ],
   "source": [
    "from ipydoodle import *\n",
    "# make world\n",
    "\n",
    "world = World(width = 200, height = 200)"
   ]
  },
  {
   "cell_type": "code",
   "execution_count": 2,
   "id": "7b52be16-b705-470a-add9-eba68cb145df",
   "metadata": {
    "tags": []
   },
   "outputs": [
    {
     "data": {
      "application/vnd.jupyter.widget-view+json": {
       "model_id": "0a6f9147680848f08f37aacab2ca0ecd",
       "version_major": 2,
       "version_minor": 0
      },
      "text/plain": [
       "Canvas()"
      ]
     },
     "metadata": {},
     "output_type": "display_data"
    },
    {
     "data": {
      "text/plain": [
       "<ipydoodle.ipydoodle.Line at 0x7fe250197e80>"
      ]
     },
     "execution_count": 2,
     "metadata": {},
     "output_type": "execute_result"
    }
   ],
   "source": [
    "from ipydoodle import *\n",
    "# make object\n",
    "\n",
    "World()\n",
    "\n",
    "Circle() # Make Circle with default values\n",
    "Box(x=0, y=0, height=20, width=200) # Make box\n",
    "Line(color=[0,0,255]) # Make line"
   ]
  },
  {
   "cell_type": "code",
   "execution_count": 3,
   "id": "9c47450f-a693-4590-8767-7c8c053733fb",
   "metadata": {
    "tags": []
   },
   "outputs": [
    {
     "data": {
      "application/vnd.jupyter.widget-view+json": {
       "model_id": "df24ec3731b04a1588154002a89ca80a",
       "version_major": 2,
       "version_minor": 0
      },
      "text/plain": [
       "Canvas()"
      ]
     },
     "metadata": {},
     "output_type": "display_data"
    }
   ],
   "source": [
    "from ipydoodle import *\n",
    "# make 5 circles with for loop\n",
    "\n",
    "World()\n",
    "\n",
    "for i in range(5):\n",
    "    Circle(x = -200+i*100, y = 0)"
   ]
  },
  {
   "cell_type": "code",
   "execution_count": 4,
   "id": "af696f14-fb17-46bc-9eef-da9dde8fe9c4",
   "metadata": {
    "tags": []
   },
   "outputs": [
    {
     "data": {
      "application/vnd.jupyter.widget-view+json": {
       "model_id": "8e9c204333404ba09b4aa7ab792e0544",
       "version_major": 2,
       "version_minor": 0
      },
      "text/plain": [
       "Canvas()"
      ]
     },
     "metadata": {},
     "output_type": "display_data"
    }
   ],
   "source": [
    "from ipydoodle import *\n",
    "# make 100 circles with for loop\n",
    "\n",
    "World()\n",
    "\n",
    "for i in range(100):\n",
    "    Circle(x = -250+i*5, y = 0, radius = 2.5)"
   ]
  },
  {
   "cell_type": "code",
   "execution_count": 5,
   "id": "e3986fd9-7954-48dc-bf2f-52451bdbf1a0",
   "metadata": {
    "tags": []
   },
   "outputs": [
    {
     "data": {
      "application/vnd.jupyter.widget-view+json": {
       "model_id": "a13d3d7b5fde4d1d9381f67fbcd712a5",
       "version_major": 2,
       "version_minor": 0
      },
      "text/plain": [
       "Canvas()"
      ]
     },
     "metadata": {},
     "output_type": "display_data"
    }
   ],
   "source": [
    "from ipydoodle import *\n",
    "# make 100 circles of various colors with for loop\n",
    "\n",
    "World()\n",
    "\n",
    "for i in range(100):\n",
    "    Circle(x = -250+i*5, y = 0, radius = 2.5, color = [50,100,100+i*5])"
   ]
  },
  {
   "cell_type": "code",
   "execution_count": 6,
   "id": "9ff05691-dda7-4141-a2c3-9ff4506fa21d",
   "metadata": {
    "tags": []
   },
   "outputs": [
    {
     "data": {
      "application/vnd.jupyter.widget-view+json": {
       "model_id": "b457026d59a54f57a44534a5ec782890",
       "version_major": 2,
       "version_minor": 0
      },
      "text/plain": [
       "Canvas()"
      ]
     },
     "metadata": {},
     "output_type": "display_data"
    }
   ],
   "source": [
    "from ipydoodle import *\n",
    "# make 20 boxes with two alternating colors\n",
    "\n",
    "World()\n",
    "\n",
    "for i in range(20):\n",
    "    if i % 2 == 0:\n",
    "        Box(x = -200 + 20*i, y=0, width = 20, height = 20, color = [0,0,255])\n",
    "    else:\n",
    "        Box(x = -200 + 20*i, y=0, width = 20, height = 20, color = [0,255,0])"
   ]
  },
  {
   "cell_type": "code",
   "execution_count": 7,
   "id": "1ac1c88f-b4e3-404a-8ed2-d7d62c4d1940",
   "metadata": {
    "tags": []
   },
   "outputs": [
    {
     "data": {
      "application/vnd.jupyter.widget-view+json": {
       "model_id": "d7552bb745234cddb2f01f6b4c89a228",
       "version_major": 2,
       "version_minor": 0
      },
      "text/plain": [
       "Canvas()"
      ]
     },
     "metadata": {},
     "output_type": "display_data"
    }
   ],
   "source": [
    "from ipydoodle import *\n",
    "# make 20 boxes with three alternating colors\n",
    "\n",
    "World()\n",
    "\n",
    "for i in range(20):\n",
    "    if i % 3 == 0:\n",
    "        Box(x = -200 + 20*i, y=0, width = 20, height = 20, color = [0,0,255])\n",
    "    elif i % 3 == 1:\n",
    "        Box(x = -200 + 20*i, y=0, width = 20, height = 20, color = [0,255,0])\n",
    "    else:\n",
    "        Box(x = -200 + 20*i, y=0, width = 20, height = 20, color = [255,0,0])"
   ]
  },
  {
   "cell_type": "code",
   "execution_count": 8,
   "id": "483235f2-c337-4439-9e84-294263653b4a",
   "metadata": {},
   "outputs": [
    {
     "data": {
      "application/vnd.jupyter.widget-view+json": {
       "model_id": "be35efc6c2ea4aea98d499565c68c16e",
       "version_major": 2,
       "version_minor": 0
      },
      "text/plain": [
       "Canvas()"
      ]
     },
     "metadata": {},
     "output_type": "display_data"
    },
    {
     "data": {
      "text/plain": [
       "<ipydoodle.ipydoodle.Box at 0x7fe2500e36a0>"
      ]
     },
     "execution_count": 8,
     "metadata": {},
     "output_type": "execute_result"
    }
   ],
   "source": [
    "from ipydoodle import *\n",
    "# make simulation environment\n",
    "\n",
    "World()\n",
    "\n",
    "Circle(x = 0, y = 100, radius = 10, color = [255,0,0])\n",
    "Box(x = 0, y = -250, width = 700, height = 50, color = [0,255,0])"
   ]
  },
  {
   "cell_type": "code",
   "execution_count": 9,
   "id": "f7176644-948d-4430-bb6c-b7c016b712b3",
   "metadata": {
    "tags": []
   },
   "outputs": [
    {
     "data": {
      "application/vnd.jupyter.widget-view+json": {
       "model_id": "5b560cbfc3da4395bbecb70e2cc4c7a6",
       "version_major": 2,
       "version_minor": 0
      },
      "text/plain": [
       "Canvas()"
      ]
     },
     "metadata": {},
     "output_type": "display_data"
    },
    {
     "ename": "KeyboardInterrupt",
     "evalue": "",
     "output_type": "error",
     "traceback": [
      "\u001b[0;31m---------------------------------------------------------------------------\u001b[0m",
      "\u001b[0;31mKeyboardInterrupt\u001b[0m                         Traceback (most recent call last)",
      "Input \u001b[0;32mIn [9]\u001b[0m, in \u001b[0;36m<cell line: 16>\u001b[0;34m()\u001b[0m\n\u001b[1;32m     15\u001b[0m \u001b[38;5;28;01mwhile\u001b[39;00m \u001b[38;5;28;01mTrue\u001b[39;00m:\n\u001b[1;32m     16\u001b[0m     circle\u001b[38;5;241m.\u001b[39my \u001b[38;5;241m=\u001b[39m circle\u001b[38;5;241m.\u001b[39my \u001b[38;5;241m+\u001b[39m circle\u001b[38;5;241m.\u001b[39mvy\u001b[38;5;241m*\u001b[39mdt\n\u001b[0;32m---> 17\u001b[0m     circle\u001b[38;5;241m.\u001b[39mx \u001b[38;5;241m=\u001b[39m circle\u001b[38;5;241m.\u001b[39mx \u001b[38;5;241m+\u001b[39m circle\u001b[38;5;241m.\u001b[39mvx\u001b[38;5;241m*\u001b[39mdt\n\u001b[1;32m     18\u001b[0m     time\u001b[38;5;241m.\u001b[39msleep(dt)\n",
      "File \u001b[0;32m~/workspace/ipydoodle/ipydoodle/ipydoodle.py:369\u001b[0m, in \u001b[0;36mCircle.x\u001b[0;34m(self, val)\u001b[0m\n\u001b[1;32m    366\u001b[0m \u001b[38;5;129m@x\u001b[39m\u001b[38;5;241m.\u001b[39msetter\n\u001b[1;32m    367\u001b[0m \u001b[38;5;28;01mdef\u001b[39;00m \u001b[38;5;21mx\u001b[39m(\u001b[38;5;28mself\u001b[39m, val):\n\u001b[1;32m    368\u001b[0m     \u001b[38;5;28mself\u001b[39m\u001b[38;5;241m.\u001b[39m__x \u001b[38;5;241m=\u001b[39m val\n\u001b[0;32m--> 369\u001b[0m     \u001b[38;5;28;43mself\u001b[39;49m\u001b[38;5;241;43m.\u001b[39;49m\u001b[43mdirty\u001b[49m\u001b[43m(\u001b[49m\u001b[43m)\u001b[49m\n",
      "File \u001b[0;32m~/workspace/ipydoodle/ipydoodle/ipydoodle.py:146\u001b[0m, in \u001b[0;36mWorldObject.dirty\u001b[0;34m(self)\u001b[0m\n\u001b[1;32m    145\u001b[0m \u001b[38;5;28;01mdef\u001b[39;00m \u001b[38;5;21mdirty\u001b[39m(\u001b[38;5;28mself\u001b[39m):\n\u001b[0;32m--> 146\u001b[0m     \u001b[38;5;28;01mreturn\u001b[39;00m \u001b[38;5;28;43mself\u001b[39;49m\u001b[38;5;241;43m.\u001b[39;49m\u001b[43m__world\u001b[49m\u001b[38;5;241;43m.\u001b[39;49m\u001b[43mdirty\u001b[49m\u001b[43m(\u001b[49m\u001b[43m)\u001b[49m\n",
      "File \u001b[0;32m~/workspace/ipydoodle/ipydoodle/ipydoodle.py:105\u001b[0m, in \u001b[0;36mWorld.dirty\u001b[0;34m(self)\u001b[0m\n\u001b[1;32m    103\u001b[0m                 \u001b[38;5;28mself\u001b[39m\u001b[38;5;241m.\u001b[39mrender()\n\u001b[1;32m    104\u001b[0m         t \u001b[38;5;241m=\u001b[39m threading\u001b[38;5;241m.\u001b[39mThread(target \u001b[38;5;241m=\u001b[39m func)\n\u001b[0;32m--> 105\u001b[0m         \u001b[43mt\u001b[49m\u001b[38;5;241;43m.\u001b[39;49m\u001b[43mstart\u001b[49m\u001b[43m(\u001b[49m\u001b[43m)\u001b[49m\n\u001b[1;32m    106\u001b[0m \u001b[38;5;28;01melse\u001b[39;00m:\n\u001b[1;32m    107\u001b[0m     \u001b[38;5;28mself\u001b[39m\u001b[38;5;241m.\u001b[39mrender()\n",
      "File \u001b[0;32m/usr/lib/python3.8/threading.py:852\u001b[0m, in \u001b[0;36mThread.start\u001b[0;34m(self)\u001b[0m\n\u001b[1;32m    850\u001b[0m     _limbo[\u001b[38;5;28mself\u001b[39m] \u001b[38;5;241m=\u001b[39m \u001b[38;5;28mself\u001b[39m\n\u001b[1;32m    851\u001b[0m \u001b[38;5;28;01mtry\u001b[39;00m:\n\u001b[0;32m--> 852\u001b[0m     \u001b[43m_start_new_thread\u001b[49m\u001b[43m(\u001b[49m\u001b[38;5;28;43mself\u001b[39;49m\u001b[38;5;241;43m.\u001b[39;49m\u001b[43m_bootstrap\u001b[49m\u001b[43m,\u001b[49m\u001b[43m \u001b[49m\u001b[43m(\u001b[49m\u001b[43m)\u001b[49m\u001b[43m)\u001b[49m\n\u001b[1;32m    853\u001b[0m \u001b[38;5;28;01mexcept\u001b[39;00m \u001b[38;5;167;01mException\u001b[39;00m:\n\u001b[1;32m    854\u001b[0m     \u001b[38;5;28;01mwith\u001b[39;00m _active_limbo_lock:\n",
      "\u001b[0;31mKeyboardInterrupt\u001b[0m: "
     ]
    }
   ],
   "source": [
    "from ipydoodle import *\n",
    "import time\n",
    "# Uniform motion\n",
    "\n",
    "World()\n",
    "\n",
    "circle = Circle(x = 0, y = 100, radius = 10, color = [255,0,0])\n",
    "Box(x = 0, y = -250, width = 700, height = 50, color = [0,255,0])\n",
    "\n",
    "circle.vx = 0\n",
    "circle.vy = -100\n",
    "\n",
    "dt = 0.01\n",
    "\n",
    "while True:\n",
    "    circle.y = circle.y + circle.vy*dt\n",
    "    circle.x = circle.x + circle.vx*dt\n",
    "    time.sleep(dt)"
   ]
  },
  {
   "cell_type": "code",
   "execution_count": 10,
   "id": "bf11b43d-69d5-428e-9390-e6814efd4e2c",
   "metadata": {
    "tags": []
   },
   "outputs": [
    {
     "data": {
      "application/vnd.jupyter.widget-view+json": {
       "model_id": "60cf517f4da140e8b2288f03351b26a2",
       "version_major": 2,
       "version_minor": 0
      },
      "text/plain": [
       "Canvas()"
      ]
     },
     "metadata": {},
     "output_type": "display_data"
    },
    {
     "ename": "KeyboardInterrupt",
     "evalue": "",
     "output_type": "error",
     "traceback": [
      "\u001b[0;31m---------------------------------------------------------------------------\u001b[0m",
      "\u001b[0;31mKeyboardInterrupt\u001b[0m                         Traceback (most recent call last)",
      "Input \u001b[0;32mIn [10]\u001b[0m, in \u001b[0;36m<cell line: 16>\u001b[0;34m()\u001b[0m\n\u001b[1;32m     18\u001b[0m \u001b[38;5;28;01mif\u001b[39;00m circle\u001b[38;5;241m.\u001b[39my \u001b[38;5;241m==\u001b[39m \u001b[38;5;241m-\u001b[39m\u001b[38;5;241m215\u001b[39m:\n\u001b[1;32m     19\u001b[0m     circle\u001b[38;5;241m.\u001b[39mvy \u001b[38;5;241m=\u001b[39m \u001b[38;5;241m-\u001b[39mcircle\u001b[38;5;241m.\u001b[39mvy\n\u001b[0;32m---> 20\u001b[0m \u001b[43mtime\u001b[49m\u001b[38;5;241;43m.\u001b[39;49m\u001b[43msleep\u001b[49m\u001b[43m(\u001b[49m\u001b[43mdt\u001b[49m\u001b[43m)\u001b[49m\n",
      "\u001b[0;31mKeyboardInterrupt\u001b[0m: "
     ]
    }
   ],
   "source": [
    "import time\n",
    "from ipydoodle import *\n",
    "# Uniform motion + collision\n",
    "\n",
    "World()\n",
    "\n",
    "circle = Circle(x = 0, y = 100, radius = 10, color = [255,0,0])\n",
    "Box(x = 0, y = -250, width = 700, height = 50, color = [0,255,0])\n",
    "\n",
    "circle.vx = 0\n",
    "circle.vy = -100\n",
    "\n",
    "dt = 0.01\n",
    "\n",
    "while True:\n",
    "    circle.y = circle.y + circle.vy*dt\n",
    "    circle.x = circle.x + circle.vx*dt\n",
    "    if circle.y == -215:\n",
    "        circle.vy = -circle.vy\n",
    "    time.sleep(dt)"
   ]
  },
  {
   "cell_type": "code",
   "execution_count": 11,
   "id": "09f61d17-56ef-4730-ac9b-85fd3e3975c6",
   "metadata": {
    "tags": []
   },
   "outputs": [
    {
     "data": {
      "application/vnd.jupyter.widget-view+json": {
       "model_id": "b4f8b1fbc46342ff9337d3136b96605c",
       "version_major": 2,
       "version_minor": 0
      },
      "text/plain": [
       "Canvas()"
      ]
     },
     "metadata": {},
     "output_type": "display_data"
    },
    {
     "ename": "KeyboardInterrupt",
     "evalue": "",
     "output_type": "error",
     "traceback": [
      "\u001b[0;31m---------------------------------------------------------------------------\u001b[0m",
      "\u001b[0;31mKeyboardInterrupt\u001b[0m                         Traceback (most recent call last)",
      "Input \u001b[0;32mIn [11]\u001b[0m, in \u001b[0;36m<cell line: 17>\u001b[0;34m()\u001b[0m\n\u001b[1;32m     20\u001b[0m \u001b[38;5;28;01mif\u001b[39;00m circle\u001b[38;5;241m.\u001b[39my \u001b[38;5;241m<\u001b[39m\u001b[38;5;241m=\u001b[39m \u001b[38;5;241m-\u001b[39m\u001b[38;5;241m215\u001b[39m:\n\u001b[1;32m     21\u001b[0m     circle\u001b[38;5;241m.\u001b[39mvy \u001b[38;5;241m=\u001b[39m \u001b[38;5;241m-\u001b[39mcircle\u001b[38;5;241m.\u001b[39mvy\n\u001b[0;32m---> 22\u001b[0m \u001b[43mtime\u001b[49m\u001b[38;5;241;43m.\u001b[39;49m\u001b[43msleep\u001b[49m\u001b[43m(\u001b[49m\u001b[43mdt\u001b[49m\u001b[43m)\u001b[49m\n",
      "\u001b[0;31mKeyboardInterrupt\u001b[0m: "
     ]
    }
   ],
   "source": [
    "import time\n",
    "from ipydoodle import *\n",
    "# free fall with collision\n",
    "\n",
    "World()\n",
    "\n",
    "circle = Circle(x = 0, y = 100, radius = 10, color = [255,0,0])\n",
    "Box(x = 0, y = -250, width = 700, height = 50, color = [0,255,0])\n",
    "\n",
    "circle.vx = 0\n",
    "circle.vy = -100\n",
    "circle.ay = -98\n",
    "\n",
    "dt = 0.01\n",
    "\n",
    "while True:\n",
    "    circle.y = circle.y + circle.vy*dt\n",
    "    circle.x = circle.x + circle.vx*dt\n",
    "    circle.vy = circle.vy + circle.ay*dt\n",
    "    if circle.y <= -215:\n",
    "        circle.vy = -circle.vy\n",
    "    time.sleep(dt)"
   ]
  },
  {
   "cell_type": "code",
   "execution_count": 12,
   "id": "fa6c1037-6996-4702-aa82-4a792deb263c",
   "metadata": {
    "tags": []
   },
   "outputs": [
    {
     "data": {
      "application/vnd.jupyter.widget-view+json": {
       "model_id": "f77c00c17b754f9a9434e7c25e88fe2d",
       "version_major": 2,
       "version_minor": 0
      },
      "text/plain": [
       "Canvas()"
      ]
     },
     "metadata": {},
     "output_type": "display_data"
    },
    {
     "ename": "KeyboardInterrupt",
     "evalue": "",
     "output_type": "error",
     "traceback": [
      "\u001b[0;31m---------------------------------------------------------------------------\u001b[0m",
      "\u001b[0;31mKeyboardInterrupt\u001b[0m                         Traceback (most recent call last)",
      "Input \u001b[0;32mIn [12]\u001b[0m, in \u001b[0;36m<cell line: 17>\u001b[0;34m()\u001b[0m\n\u001b[1;32m     20\u001b[0m \u001b[38;5;28;01mif\u001b[39;00m circle\u001b[38;5;241m.\u001b[39my \u001b[38;5;241m<\u001b[39m\u001b[38;5;241m=\u001b[39m \u001b[38;5;241m-\u001b[39m\u001b[38;5;241m215\u001b[39m:\n\u001b[1;32m     21\u001b[0m     circle\u001b[38;5;241m.\u001b[39mvy \u001b[38;5;241m=\u001b[39m \u001b[38;5;241m-\u001b[39mcircle\u001b[38;5;241m.\u001b[39mvy\n\u001b[0;32m---> 22\u001b[0m \u001b[43mtime\u001b[49m\u001b[38;5;241;43m.\u001b[39;49m\u001b[43msleep\u001b[49m\u001b[43m(\u001b[49m\u001b[43mdt\u001b[49m\u001b[43m)\u001b[49m\n",
      "\u001b[0;31mKeyboardInterrupt\u001b[0m: "
     ]
    }
   ],
   "source": [
    "import time\n",
    "from ipydoodle import *\n",
    "# projectile motion\n",
    "\n",
    "World()\n",
    "\n",
    "circle = Circle(x = 0, y = 100, radius = 10, color = [255,0,0])\n",
    "Box(x = 0, y = -250, width = 700, height = 50, color = [0,255,0])\n",
    "\n",
    "circle.vx = 50\n",
    "circle.vy = -100\n",
    "circle.ay = -98\n",
    "\n",
    "dt = 0.01\n",
    "\n",
    "while True:\n",
    "    circle.y = circle.y + circle.vy*dt\n",
    "    circle.x = circle.x + circle.vx*dt\n",
    "    circle.vy = circle.vy + circle.ay*dt\n",
    "    if circle.y <= -215:\n",
    "        circle.vy = -circle.vy\n",
    "    time.sleep(dt)"
   ]
  },
  {
   "cell_type": "code",
   "execution_count": 13,
   "id": "1fb9e5c8-46ab-4526-a642-4b6ca7a7cd35",
   "metadata": {},
   "outputs": [
    {
     "data": {
      "application/vnd.jupyter.widget-view+json": {
       "model_id": "6fc8f493053143a0bb540b1eab277f51",
       "version_major": 2,
       "version_minor": 0
      },
      "text/plain": [
       "Canvas()"
      ]
     },
     "metadata": {},
     "output_type": "display_data"
    }
   ],
   "source": [
    "import time\n",
    "from ipydoodle import *\n",
    "from random import randint\n",
    "# Random circles\n",
    "\n",
    "World()\n",
    "\n",
    "for i in range(100):\n",
    "    Box(x = randint(-350,350), y = randint(-250,250), width = randint(1,100), height = randint(1,100), color = [randint(0,255),randint(0,255),randint(0,255)])"
   ]
  },
  {
   "cell_type": "code",
   "execution_count": 14,
   "id": "9f3dbf62-e3a6-41da-871e-32272ca2eced",
   "metadata": {
    "tags": []
   },
   "outputs": [
    {
     "data": {
      "application/vnd.jupyter.widget-view+json": {
       "model_id": "2f1a94429c3f4a3a9c1c8715d46a81c9",
       "version_major": 2,
       "version_minor": 0
      },
      "text/plain": [
       "Canvas()"
      ]
     },
     "metadata": {},
     "output_type": "display_data"
    },
    {
     "ename": "KeyboardInterrupt",
     "evalue": "",
     "output_type": "error",
     "traceback": [
      "\u001b[0;31m---------------------------------------------------------------------------\u001b[0m",
      "\u001b[0;31mKeyboardInterrupt\u001b[0m                         Traceback (most recent call last)",
      "Input \u001b[0;32mIn [14]\u001b[0m, in \u001b[0;36m<cell line: 8>\u001b[0;34m()\u001b[0m\n\u001b[1;32m      9\u001b[0m box\u001b[38;5;241m.\u001b[39mx \u001b[38;5;241m=\u001b[39m randint(\u001b[38;5;241m-\u001b[39m\u001b[38;5;241m350\u001b[39m,\u001b[38;5;241m350\u001b[39m)\n\u001b[1;32m     10\u001b[0m box\u001b[38;5;241m.\u001b[39my \u001b[38;5;241m=\u001b[39m randint(\u001b[38;5;241m-\u001b[39m\u001b[38;5;241m250\u001b[39m,\u001b[38;5;241m250\u001b[39m)\n\u001b[0;32m---> 11\u001b[0m \u001b[43mtime\u001b[49m\u001b[38;5;241;43m.\u001b[39;49m\u001b[43msleep\u001b[49m\u001b[43m(\u001b[49m\u001b[38;5;241;43m1\u001b[39;49m\u001b[43m)\u001b[49m\n",
      "\u001b[0;31mKeyboardInterrupt\u001b[0m: "
     ]
    }
   ],
   "source": [
    "import time\n",
    "from ipydoodle import *\n",
    "from random import randint\n",
    "# moving box\n",
    "\n",
    "World()\n",
    "box = Box(width = 100, height = 100, color = [0,0,0])\n",
    "for i in range(100):\n",
    "    box.x = randint(-350,350)\n",
    "    box.y = randint(-250,250)\n",
    "    time.sleep(1)"
   ]
  }
 ],
 "metadata": {
  "kernelspec": {
   "display_name": "Python 3 (ipykernel)",
   "language": "python",
   "name": "python3"
  },
  "language_info": {
   "codemirror_mode": {
    "name": "ipython",
    "version": 3
   },
   "file_extension": ".py",
   "mimetype": "text/x-python",
   "name": "python",
   "nbconvert_exporter": "python",
   "pygments_lexer": "ipython3",
   "version": "3.8.10"
  }
 },
 "nbformat": 4,
 "nbformat_minor": 5
}
